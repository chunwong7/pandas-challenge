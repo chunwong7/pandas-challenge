{
 "cells": [
  {
   "cell_type": "code",
   "execution_count": 51,
   "metadata": {
    "scrolled": true
   },
   "outputs": [],
   "source": [
    "import pandas as pd\n",
    "link = \"Resources/purchase_data.csv\"\n",
    "game_csv = pd.read_csv(link)\n",
    "#game_csv.head()\n"
   ]
  },
  {
   "cell_type": "code",
   "execution_count": 52,
   "metadata": {},
   "outputs": [
    {
     "name": "stdout",
     "output_type": "stream",
     "text": [
      "There are a total of 780 players.\n"
     ]
    }
   ],
   "source": [
    "#finding total number of players \n",
    "#game_csv.count()\n",
    "totalplayers = game_csv[\"SN\"].count()\n",
    "print(f\"There are a total of {totalplayers} players.\")"
   ]
  },
  {
   "cell_type": "code",
   "execution_count": 54,
   "metadata": {},
   "outputs": [],
   "source": [
    "#uniqueitems = game_csv[\"Item Name\"].unique()\n",
    "#uniqueitems\n",
    "#averageprice = game_csv[\"Price\"].mean()\n",
    "#averageprice\n",
    "#game_csv[\"Item Name\"].value_counts()\n",
    "#itemsarray = []\n",
    "#for row in range(totalplayers):\n",
    "    \n",
    "    \n",
    "    #itemsarray.append(game_csv[\"Item Name\"][row])\n",
    "#itemsarray\n",
    "#for row in range(len(itemsarray)):\n",
    "    #print(f\"{len(itemsarray[row])}\")\n",
    "    #for x in range(len(itemsarray[row])):\n",
    "        #if itemsarray[row][x] == \",\":\n",
    "            #itemsplit = itemsarray[row].split(\",\")\n",
    "            #itemsarray[row] = itemsplit[0]\n",
    "            #itemsarray.append(str(itemsplit[1]))\n",
    "\n",
    "#itemsarray"
   ]
  },
  {
   "cell_type": "code",
   "execution_count": 64,
   "metadata": {},
   "outputs": [
    {
     "name": "stdout",
     "output_type": "stream",
     "text": [
      "0.84% of all players are males.\n",
      "0.14% of all players are females.\n",
      "0.02% did not disclose their gender.\n"
     ]
    }
   ],
   "source": [
    "#Gender Demo\n",
    "gender = game_csv[\"Gender\"].value_counts()\n",
    "males = float(gender[0])\n",
    "females = float(gender[1])\n",
    "non_disclosed = float(gender[2])\n",
    "males_percent = \"{:,.2f}\".format(males / totalplayers)\n",
    "females_percent = \"{:,.2f}\".format(females / totalplayers)\n",
    "non_percent = \"{:,.2f}\".format(non_disclosed / totalplayers)\n",
    "print(f\"{males_percent}% of all players are males.\")\n",
    "print(f\"{females_percent}% of all players are females.\")\n",
    "print(f\"{non_percent}% did not disclose their gender.\")\n"
   ]
  },
  {
   "cell_type": "code",
   "execution_count": null,
   "metadata": {},
   "outputs": [],
   "source": []
  }
 ],
 "metadata": {
  "file_extension": ".py",
  "kernelspec": {
   "display_name": "Python [conda env:PythonData] *",
   "language": "python",
   "name": "conda-env-PythonData-py"
  },
  "language_info": {
   "codemirror_mode": {
    "name": "ipython",
    "version": 3
   },
   "file_extension": ".py",
   "mimetype": "text/x-python",
   "name": "python",
   "nbconvert_exporter": "python",
   "pygments_lexer": "ipython3",
   "version": "3.7.6"
  },
  "mimetype": "text/x-python",
  "name": "python",
  "npconvert_exporter": "python",
  "pygments_lexer": "ipython3",
  "version": 3
 },
 "nbformat": 4,
 "nbformat_minor": 2
}
