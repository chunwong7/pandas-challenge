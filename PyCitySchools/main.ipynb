{
 "cells": [
  {
   "cell_type": "code",
   "execution_count": 1,
   "metadata": {},
   "outputs": [],
   "source": [
    "import pandas as pd\n",
    "student = \"Resources/students_complete.csv\"\n",
    "school = \"Resources/schools_complete.csv\"\n",
    "student_csv = pd.read_csv(student)\n",
    "school_csv = pd.read_csv(school)\n",
    "#student_csv.head()\n",
    "#student_csv.count() \n",
    "#student_csv[\"school_name\"].value_counts()\n"
   ]
  },
  {
   "cell_type": "code",
   "execution_count": 2,
   "metadata": {},
   "outputs": [],
   "source": [
    "totalschool = school_csv[\"School ID\"].count()\n",
    "totalstu = student_csv[\"Student ID\"].count()\n",
    "#print(totalstu)\n",
    "budget = school_csv[\"budget\"].sum()\n",
    "mathavg = student_csv[\"math_score\"].mean()\n",
    "readavg = student_csv[\"reading_score\"].mean()\n",
    "mathpass = student_csv.loc[student_csv[\"math_score\"] > 69]\n",
    "#print(mathpass)\n",
    "mathpercent = (mathpass[\"math_score\"].count() / totalstu) * 100\n",
    "readpass = student_csv.loc[student_csv[\"reading_score\"] > 69]\n",
    "#print(readpass)\n",
    "readpercent = (readpass[\"reading_score\"].count() / totalstu) * 100\n",
    "overall = (mathpercent + readpercent) / 2\n",
    "columns = [\"Total Schhol\", \"Total Student\", \"Total Budget\", \"Average Math Score\", \"Average Reading Score\", \n",
    "          \"% Passing Math\", \"% Passing Reading\", \"Overall Passing Rate\"]\n"
   ]
  },
  {
   "cell_type": "code",
   "execution_count": 3,
   "metadata": {},
   "outputs": [
    {
     "output_type": "execute_result",
     "data": {
      "text/plain": "   Total Schools  Total Students  Total Budget Average Math Score  \\\n0             15           39170      24649428              78.99   \n\n  Average Reading Score % Passing Math % Passing Reading Overall Passing Rate  \n0                 81.88          74.98             85.81                80.39  ",
      "text/html": "<div>\n<style scoped>\n    .dataframe tbody tr th:only-of-type {\n        vertical-align: middle;\n    }\n\n    .dataframe tbody tr th {\n        vertical-align: top;\n    }\n\n    .dataframe thead th {\n        text-align: right;\n    }\n</style>\n<table border=\"1\" class=\"dataframe\">\n  <thead>\n    <tr style=\"text-align: right;\">\n      <th></th>\n      <th>Total Schools</th>\n      <th>Total Students</th>\n      <th>Total Budget</th>\n      <th>Average Math Score</th>\n      <th>Average Reading Score</th>\n      <th>% Passing Math</th>\n      <th>% Passing Reading</th>\n      <th>Overall Passing Rate</th>\n    </tr>\n  </thead>\n  <tbody>\n    <tr>\n      <th>0</th>\n      <td>15</td>\n      <td>39170</td>\n      <td>24649428</td>\n      <td>78.99</td>\n      <td>81.88</td>\n      <td>74.98</td>\n      <td>85.81</td>\n      <td>80.39</td>\n    </tr>\n  </tbody>\n</table>\n</div>"
     },
     "metadata": {},
     "execution_count": 3
    }
   ],
   "source": [
    "#District Summary\n",
    "district_df = pd.DataFrame({\n",
    "    \"Total Schools\": [totalschool],\n",
    "    \"Total Students\": [totalstu],\n",
    "    \"Total Budget\": [budget],\n",
    "    \"Average Math Score\": [\"{:,.2f}\".format(mathavg)],\n",
    "    \"Average Reading Score\": [\"{:,.2f}\".format(readavg)],\n",
    "    \"% Passing Math\": [\"{:,.2f}\".format(mathpercent)],\n",
    "    \"% Passing Reading\": [\"{:.2f}\".format(readpercent)],\n",
    "    \"Overall Passing Rate\": [\"{:.2f}\".format(overall)]\n",
    "})\n",
    "district_df"
   ]
  },
  {
   "cell_type": "code",
   "execution_count": 4,
   "metadata": {},
   "outputs": [
    {
     "output_type": "execute_result",
     "data": {
      "text/plain": "   Student ID       student_name gender grade        school_name  \\\n0           0       Paul Bradley      M   9th  Huang High School   \n1           1       Victor Smith      M  12th  Huang High School   \n2           2    Kevin Rodriguez      M  12th  Huang High School   \n3           3  Dr. Richard Scott      M  12th  Huang High School   \n4           4         Bonnie Ray      F   9th  Huang High School   \n\n   reading_score  math_score  School ID      type  size   budget  \n0             66          79          0  District  2917  1910635  \n1             94          61          0  District  2917  1910635  \n2             90          60          0  District  2917  1910635  \n3             67          58          0  District  2917  1910635  \n4             97          84          0  District  2917  1910635  ",
      "text/html": "<div>\n<style scoped>\n    .dataframe tbody tr th:only-of-type {\n        vertical-align: middle;\n    }\n\n    .dataframe tbody tr th {\n        vertical-align: top;\n    }\n\n    .dataframe thead th {\n        text-align: right;\n    }\n</style>\n<table border=\"1\" class=\"dataframe\">\n  <thead>\n    <tr style=\"text-align: right;\">\n      <th></th>\n      <th>Student ID</th>\n      <th>student_name</th>\n      <th>gender</th>\n      <th>grade</th>\n      <th>school_name</th>\n      <th>reading_score</th>\n      <th>math_score</th>\n      <th>School ID</th>\n      <th>type</th>\n      <th>size</th>\n      <th>budget</th>\n    </tr>\n  </thead>\n  <tbody>\n    <tr>\n      <th>0</th>\n      <td>0</td>\n      <td>Paul Bradley</td>\n      <td>M</td>\n      <td>9th</td>\n      <td>Huang High School</td>\n      <td>66</td>\n      <td>79</td>\n      <td>0</td>\n      <td>District</td>\n      <td>2917</td>\n      <td>1910635</td>\n    </tr>\n    <tr>\n      <th>1</th>\n      <td>1</td>\n      <td>Victor Smith</td>\n      <td>M</td>\n      <td>12th</td>\n      <td>Huang High School</td>\n      <td>94</td>\n      <td>61</td>\n      <td>0</td>\n      <td>District</td>\n      <td>2917</td>\n      <td>1910635</td>\n    </tr>\n    <tr>\n      <th>2</th>\n      <td>2</td>\n      <td>Kevin Rodriguez</td>\n      <td>M</td>\n      <td>12th</td>\n      <td>Huang High School</td>\n      <td>90</td>\n      <td>60</td>\n      <td>0</td>\n      <td>District</td>\n      <td>2917</td>\n      <td>1910635</td>\n    </tr>\n    <tr>\n      <th>3</th>\n      <td>3</td>\n      <td>Dr. Richard Scott</td>\n      <td>M</td>\n      <td>12th</td>\n      <td>Huang High School</td>\n      <td>67</td>\n      <td>58</td>\n      <td>0</td>\n      <td>District</td>\n      <td>2917</td>\n      <td>1910635</td>\n    </tr>\n    <tr>\n      <th>4</th>\n      <td>4</td>\n      <td>Bonnie Ray</td>\n      <td>F</td>\n      <td>9th</td>\n      <td>Huang High School</td>\n      <td>97</td>\n      <td>84</td>\n      <td>0</td>\n      <td>District</td>\n      <td>2917</td>\n      <td>1910635</td>\n    </tr>\n  </tbody>\n</table>\n</div>"
     },
     "metadata": {},
     "execution_count": 4
    }
   ],
   "source": [
    "school_student_df = pd.merge(student_csv, school_csv, how=\"left\", on=[\"school_name\", \"school_name\"])\n",
    "school_student_df.head()"
   ]
  },
  {
   "cell_type": "code",
   "execution_count": 20,
   "metadata": {},
   "outputs": [
    {
     "output_type": "execute_result",
     "data": {
      "text/plain": "                      School Type  Total Students  Total School Budget ($)  \\\nBailey High School       District            4976                3124928.0   \nCabrera High School       Charter            1858                1081356.0   \nFigueroa High School     District            2949                1884411.0   \nFord High School         District            2739                1763916.0   \nGriffin High School       Charter            1468                 917500.0   \nHernandez High School    District            4635                3022020.0   \nHolden High School        Charter             427                 248087.0   \nHuang High School        District            2917                1910635.0   \nJohnson High School      District            4761                3094650.0   \nPena High School          Charter             962                 585858.0   \nRodriguez High School    District            3999                2547363.0   \nShelton High School       Charter            1761                1056600.0   \nThomas High School        Charter            1635                1043130.0   \nWilson High School        Charter            2283                1319574.0   \nWright High School        Charter            1800                1049400.0   \n\n                       Budget Per Student ($)  Average Math Score  \\\nBailey High School                      628.0           77.048432   \nCabrera High School                     582.0           83.061895   \nFigueroa High School                    639.0           76.711767   \nFord High School                        644.0           77.102592   \nGriffin High School                     625.0           83.351499   \nHernandez High School                   652.0           77.289752   \nHolden High School                      581.0           83.803279   \nHuang High School                       655.0           76.629414   \nJohnson High School                     650.0           77.072464   \nPena High School                        609.0           83.839917   \nRodriguez High School                   637.0           76.842711   \nShelton High School                     600.0           83.359455   \nThomas High School                      638.0           83.418349   \nWilson High School                      578.0           83.274201   \nWright High School                      583.0           83.682222   \n\n                       Average Reading Score  % Passing Math  \\\nBailey High School                 81.033963       66.680064   \nCabrera High School                83.975780       94.133477   \nFigueroa High School               81.158020       65.988471   \nFord High School                   80.746258       68.309602   \nGriffin High School                83.816757       93.392371   \nHernandez High School              80.934412       66.752967   \nHolden High School                 83.814988       92.505855   \nHuang High School                  81.182722       65.683922   \nJohnson High School                80.966394       66.057551   \nPena High School                   84.044699       94.594595   \nRodriguez High School              80.744686       66.366592   \nShelton High School                83.725724       93.867121   \nThomas High School                 83.848930       93.272171   \nWilson High School                 83.989488       93.867718   \nWright High School                 83.955000       93.333333   \n\n                       % Passing Reading  % Overall Passing Rate  \nBailey High School             81.933280               74.306672  \nCabrera High School            97.039828               95.586652  \nFigueroa High School           80.739234               73.363852  \nFord High School               79.299014               73.804308  \nGriffin High School            97.138965               95.265668  \nHernandez High School          80.862999               73.807983  \nHolden High School             96.252927               94.379391  \nHuang High School              81.316421               73.500171  \nJohnson High School            81.222432               73.639992  \nPena High School               95.945946               95.270270  \nRodriguez High School          80.220055               73.293323  \nShelton High School            95.854628               94.860875  \nThomas High School             97.308869               95.290520  \nWilson High School             96.539641               95.203679  \nWright High School             96.611111               94.972222  ",
      "text/html": "<div>\n<style scoped>\n    .dataframe tbody tr th:only-of-type {\n        vertical-align: middle;\n    }\n\n    .dataframe tbody tr th {\n        vertical-align: top;\n    }\n\n    .dataframe thead th {\n        text-align: right;\n    }\n</style>\n<table border=\"1\" class=\"dataframe\">\n  <thead>\n    <tr style=\"text-align: right;\">\n      <th></th>\n      <th>School Type</th>\n      <th>Total Students</th>\n      <th>Total School Budget ($)</th>\n      <th>Budget Per Student ($)</th>\n      <th>Average Math Score</th>\n      <th>Average Reading Score</th>\n      <th>% Passing Math</th>\n      <th>% Passing Reading</th>\n      <th>% Overall Passing Rate</th>\n    </tr>\n  </thead>\n  <tbody>\n    <tr>\n      <th>Bailey High School</th>\n      <td>District</td>\n      <td>4976</td>\n      <td>3124928.0</td>\n      <td>628.0</td>\n      <td>77.048432</td>\n      <td>81.033963</td>\n      <td>66.680064</td>\n      <td>81.933280</td>\n      <td>74.306672</td>\n    </tr>\n    <tr>\n      <th>Cabrera High School</th>\n      <td>Charter</td>\n      <td>1858</td>\n      <td>1081356.0</td>\n      <td>582.0</td>\n      <td>83.061895</td>\n      <td>83.975780</td>\n      <td>94.133477</td>\n      <td>97.039828</td>\n      <td>95.586652</td>\n    </tr>\n    <tr>\n      <th>Figueroa High School</th>\n      <td>District</td>\n      <td>2949</td>\n      <td>1884411.0</td>\n      <td>639.0</td>\n      <td>76.711767</td>\n      <td>81.158020</td>\n      <td>65.988471</td>\n      <td>80.739234</td>\n      <td>73.363852</td>\n    </tr>\n    <tr>\n      <th>Ford High School</th>\n      <td>District</td>\n      <td>2739</td>\n      <td>1763916.0</td>\n      <td>644.0</td>\n      <td>77.102592</td>\n      <td>80.746258</td>\n      <td>68.309602</td>\n      <td>79.299014</td>\n      <td>73.804308</td>\n    </tr>\n    <tr>\n      <th>Griffin High School</th>\n      <td>Charter</td>\n      <td>1468</td>\n      <td>917500.0</td>\n      <td>625.0</td>\n      <td>83.351499</td>\n      <td>83.816757</td>\n      <td>93.392371</td>\n      <td>97.138965</td>\n      <td>95.265668</td>\n    </tr>\n    <tr>\n      <th>Hernandez High School</th>\n      <td>District</td>\n      <td>4635</td>\n      <td>3022020.0</td>\n      <td>652.0</td>\n      <td>77.289752</td>\n      <td>80.934412</td>\n      <td>66.752967</td>\n      <td>80.862999</td>\n      <td>73.807983</td>\n    </tr>\n    <tr>\n      <th>Holden High School</th>\n      <td>Charter</td>\n      <td>427</td>\n      <td>248087.0</td>\n      <td>581.0</td>\n      <td>83.803279</td>\n      <td>83.814988</td>\n      <td>92.505855</td>\n      <td>96.252927</td>\n      <td>94.379391</td>\n    </tr>\n    <tr>\n      <th>Huang High School</th>\n      <td>District</td>\n      <td>2917</td>\n      <td>1910635.0</td>\n      <td>655.0</td>\n      <td>76.629414</td>\n      <td>81.182722</td>\n      <td>65.683922</td>\n      <td>81.316421</td>\n      <td>73.500171</td>\n    </tr>\n    <tr>\n      <th>Johnson High School</th>\n      <td>District</td>\n      <td>4761</td>\n      <td>3094650.0</td>\n      <td>650.0</td>\n      <td>77.072464</td>\n      <td>80.966394</td>\n      <td>66.057551</td>\n      <td>81.222432</td>\n      <td>73.639992</td>\n    </tr>\n    <tr>\n      <th>Pena High School</th>\n      <td>Charter</td>\n      <td>962</td>\n      <td>585858.0</td>\n      <td>609.0</td>\n      <td>83.839917</td>\n      <td>84.044699</td>\n      <td>94.594595</td>\n      <td>95.945946</td>\n      <td>95.270270</td>\n    </tr>\n    <tr>\n      <th>Rodriguez High School</th>\n      <td>District</td>\n      <td>3999</td>\n      <td>2547363.0</td>\n      <td>637.0</td>\n      <td>76.842711</td>\n      <td>80.744686</td>\n      <td>66.366592</td>\n      <td>80.220055</td>\n      <td>73.293323</td>\n    </tr>\n    <tr>\n      <th>Shelton High School</th>\n      <td>Charter</td>\n      <td>1761</td>\n      <td>1056600.0</td>\n      <td>600.0</td>\n      <td>83.359455</td>\n      <td>83.725724</td>\n      <td>93.867121</td>\n      <td>95.854628</td>\n      <td>94.860875</td>\n    </tr>\n    <tr>\n      <th>Thomas High School</th>\n      <td>Charter</td>\n      <td>1635</td>\n      <td>1043130.0</td>\n      <td>638.0</td>\n      <td>83.418349</td>\n      <td>83.848930</td>\n      <td>93.272171</td>\n      <td>97.308869</td>\n      <td>95.290520</td>\n    </tr>\n    <tr>\n      <th>Wilson High School</th>\n      <td>Charter</td>\n      <td>2283</td>\n      <td>1319574.0</td>\n      <td>578.0</td>\n      <td>83.274201</td>\n      <td>83.989488</td>\n      <td>93.867718</td>\n      <td>96.539641</td>\n      <td>95.203679</td>\n    </tr>\n    <tr>\n      <th>Wright High School</th>\n      <td>Charter</td>\n      <td>1800</td>\n      <td>1049400.0</td>\n      <td>583.0</td>\n      <td>83.682222</td>\n      <td>83.955000</td>\n      <td>93.333333</td>\n      <td>96.611111</td>\n      <td>94.972222</td>\n    </tr>\n  </tbody>\n</table>\n</div>"
     },
     "metadata": {},
     "execution_count": 20
    }
   ],
   "source": [
    "#Overall Summary\n",
    "school_types = school_csv.set_index([\"school_name\"])[\"type\"]\n",
    "students_at_school = school_student_df[\"school_name\"].value_counts()\n",
    "school_budget = school_student_df.groupby([\"school_name\"]).mean()[\"budget\"]\n",
    "budget_per = school_budget / students_at_school\n",
    "\n",
    "school_math = school_student_df.groupby([\"school_name\"]).mean()[\"math_score\"]\n",
    "school_reading = school_student_df.groupby([\"school_name\"]).mean()[\"reading_score\"]\n",
    "school_math_P = school_student_df[(school_student_df[\"math_score\"] > 69)]\n",
    "school_reading_P = school_student_df[(school_student_df[\"reading_score\"] > 69)]\n",
    "\n",
    "math_passing_per = school_math_P.groupby([\"school_name\"]).count()[\"student_name\"] / students_at_school * 100\n",
    "reading_passing_per = school_reading_P.groupby([\"school_name\"]).count()[\"student_name\"] / students_at_school * 100\n",
    "overall_passing = (math_passing_per + reading_passing_per) / 2\n",
    "\n",
    "school_summary = pd.DataFrame({\"School Type\": school_types,\n",
    "                                   \"Total Students\": students_at_school,\n",
    "                                   \"Total School Budget ($)\": school_budget,\n",
    "                                   \"Budget Per Student ($)\": budget_per,\n",
    "                                   \"Average Math Score\": school_math,\n",
    "                                   \"Average Reading Score\": school_reading,\n",
    "                                   \"% Passing Math\": math_passing_per,\n",
    "                                   \"% Passing Reading\": reading_passing_per,\n",
    "                                   \"% Overall Passing Rate\": overall_passing\n",
    "                                   })\n",
    "\n",
    "school_summary"
   ]
  },
  {
   "cell_type": "code",
   "execution_count": 21,
   "metadata": {},
   "outputs": [
    {
     "output_type": "execute_result",
     "data": {
      "text/plain": "                    School Type  Total Students  Total School Budget ($)  \\\nCabrera High School     Charter            1858                1081356.0   \nThomas High School      Charter            1635                1043130.0   \nPena High School        Charter             962                 585858.0   \nGriffin High School     Charter            1468                 917500.0   \nWilson High School      Charter            2283                1319574.0   \n\n                     Budget Per Student ($)  Average Math Score  \\\nCabrera High School                   582.0           83.061895   \nThomas High School                    638.0           83.418349   \nPena High School                      609.0           83.839917   \nGriffin High School                   625.0           83.351499   \nWilson High School                    578.0           83.274201   \n\n                     Average Reading Score  % Passing Math  % Passing Reading  \\\nCabrera High School              83.975780       94.133477          97.039828   \nThomas High School               83.848930       93.272171          97.308869   \nPena High School                 84.044699       94.594595          95.945946   \nGriffin High School              83.816757       93.392371          97.138965   \nWilson High School               83.989488       93.867718          96.539641   \n\n                     % Overall Passing Rate  \nCabrera High School               95.586652  \nThomas High School                95.290520  \nPena High School                  95.270270  \nGriffin High School               95.265668  \nWilson High School                95.203679  ",
      "text/html": "<div>\n<style scoped>\n    .dataframe tbody tr th:only-of-type {\n        vertical-align: middle;\n    }\n\n    .dataframe tbody tr th {\n        vertical-align: top;\n    }\n\n    .dataframe thead th {\n        text-align: right;\n    }\n</style>\n<table border=\"1\" class=\"dataframe\">\n  <thead>\n    <tr style=\"text-align: right;\">\n      <th></th>\n      <th>School Type</th>\n      <th>Total Students</th>\n      <th>Total School Budget ($)</th>\n      <th>Budget Per Student ($)</th>\n      <th>Average Math Score</th>\n      <th>Average Reading Score</th>\n      <th>% Passing Math</th>\n      <th>% Passing Reading</th>\n      <th>% Overall Passing Rate</th>\n    </tr>\n  </thead>\n  <tbody>\n    <tr>\n      <th>Cabrera High School</th>\n      <td>Charter</td>\n      <td>1858</td>\n      <td>1081356.0</td>\n      <td>582.0</td>\n      <td>83.061895</td>\n      <td>83.975780</td>\n      <td>94.133477</td>\n      <td>97.039828</td>\n      <td>95.586652</td>\n    </tr>\n    <tr>\n      <th>Thomas High School</th>\n      <td>Charter</td>\n      <td>1635</td>\n      <td>1043130.0</td>\n      <td>638.0</td>\n      <td>83.418349</td>\n      <td>83.848930</td>\n      <td>93.272171</td>\n      <td>97.308869</td>\n      <td>95.290520</td>\n    </tr>\n    <tr>\n      <th>Pena High School</th>\n      <td>Charter</td>\n      <td>962</td>\n      <td>585858.0</td>\n      <td>609.0</td>\n      <td>83.839917</td>\n      <td>84.044699</td>\n      <td>94.594595</td>\n      <td>95.945946</td>\n      <td>95.270270</td>\n    </tr>\n    <tr>\n      <th>Griffin High School</th>\n      <td>Charter</td>\n      <td>1468</td>\n      <td>917500.0</td>\n      <td>625.0</td>\n      <td>83.351499</td>\n      <td>83.816757</td>\n      <td>93.392371</td>\n      <td>97.138965</td>\n      <td>95.265668</td>\n    </tr>\n    <tr>\n      <th>Wilson High School</th>\n      <td>Charter</td>\n      <td>2283</td>\n      <td>1319574.0</td>\n      <td>578.0</td>\n      <td>83.274201</td>\n      <td>83.989488</td>\n      <td>93.867718</td>\n      <td>96.539641</td>\n      <td>95.203679</td>\n    </tr>\n  </tbody>\n</table>\n</div>"
     },
     "metadata": {},
     "execution_count": 21
    }
   ],
   "source": [
    "#Top 5 school by overall passing rate\n",
    "school_summary.sort_values([\"% Overall Passing Rate\"], ascending=False).head(5)"
   ]
  },
  {
   "cell_type": "code",
   "execution_count": 22,
   "metadata": {},
   "outputs": [
    {
     "output_type": "execute_result",
     "data": {
      "text/plain": "                      School Type  Total Students  Total School Budget ($)  \\\nRodriguez High School    District            3999                2547363.0   \nFigueroa High School     District            2949                1884411.0   \nHuang High School        District            2917                1910635.0   \nJohnson High School      District            4761                3094650.0   \nFord High School         District            2739                1763916.0   \n\n                       Budget Per Student ($)  Average Math Score  \\\nRodriguez High School                   637.0           76.842711   \nFigueroa High School                    639.0           76.711767   \nHuang High School                       655.0           76.629414   \nJohnson High School                     650.0           77.072464   \nFord High School                        644.0           77.102592   \n\n                       Average Reading Score  % Passing Math  \\\nRodriguez High School              80.744686       66.366592   \nFigueroa High School               81.158020       65.988471   \nHuang High School                  81.182722       65.683922   \nJohnson High School                80.966394       66.057551   \nFord High School                   80.746258       68.309602   \n\n                       % Passing Reading  % Overall Passing Rate  \nRodriguez High School          80.220055               73.293323  \nFigueroa High School           80.739234               73.363852  \nHuang High School              81.316421               73.500171  \nJohnson High School            81.222432               73.639992  \nFord High School               79.299014               73.804308  ",
      "text/html": "<div>\n<style scoped>\n    .dataframe tbody tr th:only-of-type {\n        vertical-align: middle;\n    }\n\n    .dataframe tbody tr th {\n        vertical-align: top;\n    }\n\n    .dataframe thead th {\n        text-align: right;\n    }\n</style>\n<table border=\"1\" class=\"dataframe\">\n  <thead>\n    <tr style=\"text-align: right;\">\n      <th></th>\n      <th>School Type</th>\n      <th>Total Students</th>\n      <th>Total School Budget ($)</th>\n      <th>Budget Per Student ($)</th>\n      <th>Average Math Score</th>\n      <th>Average Reading Score</th>\n      <th>% Passing Math</th>\n      <th>% Passing Reading</th>\n      <th>% Overall Passing Rate</th>\n    </tr>\n  </thead>\n  <tbody>\n    <tr>\n      <th>Rodriguez High School</th>\n      <td>District</td>\n      <td>3999</td>\n      <td>2547363.0</td>\n      <td>637.0</td>\n      <td>76.842711</td>\n      <td>80.744686</td>\n      <td>66.366592</td>\n      <td>80.220055</td>\n      <td>73.293323</td>\n    </tr>\n    <tr>\n      <th>Figueroa High School</th>\n      <td>District</td>\n      <td>2949</td>\n      <td>1884411.0</td>\n      <td>639.0</td>\n      <td>76.711767</td>\n      <td>81.158020</td>\n      <td>65.988471</td>\n      <td>80.739234</td>\n      <td>73.363852</td>\n    </tr>\n    <tr>\n      <th>Huang High School</th>\n      <td>District</td>\n      <td>2917</td>\n      <td>1910635.0</td>\n      <td>655.0</td>\n      <td>76.629414</td>\n      <td>81.182722</td>\n      <td>65.683922</td>\n      <td>81.316421</td>\n      <td>73.500171</td>\n    </tr>\n    <tr>\n      <th>Johnson High School</th>\n      <td>District</td>\n      <td>4761</td>\n      <td>3094650.0</td>\n      <td>650.0</td>\n      <td>77.072464</td>\n      <td>80.966394</td>\n      <td>66.057551</td>\n      <td>81.222432</td>\n      <td>73.639992</td>\n    </tr>\n    <tr>\n      <th>Ford High School</th>\n      <td>District</td>\n      <td>2739</td>\n      <td>1763916.0</td>\n      <td>644.0</td>\n      <td>77.102592</td>\n      <td>80.746258</td>\n      <td>68.309602</td>\n      <td>79.299014</td>\n      <td>73.804308</td>\n    </tr>\n  </tbody>\n</table>\n</div>"
     },
     "metadata": {},
     "execution_count": 22
    }
   ],
   "source": [
    "#bottom 5 schools by overall passing rate\n",
    "school_summary.sort_values([\"% Overall Passing Rate\"], ascending=True).head(5)"
   ]
  },
  {
   "cell_type": "code",
   "execution_count": 27,
   "metadata": {},
   "outputs": [
    {
     "output_type": "execute_result",
     "data": {
      "text/plain": "                             9th       10th       11th       12th\nschool_name                                                      \nBailey High School     77.083676  76.996772  77.515588  76.492218\nCabrera High School    83.094697  83.154506  82.765560  83.277487\nFigueroa High School   76.403037  76.539974  76.884344  77.151369\nFord High School       77.361345  77.672316  76.918058  76.179963\nGriffin High School    82.044010  84.229064  83.842105  83.356164\nHernandez High School  77.438495  77.337408  77.136029  77.186567\nHolden High School     83.787402  83.429825  85.000000  82.855422\nHuang High School      77.027251  75.908735  76.446602  77.225641\nJohnson High School    77.187857  76.691117  77.491653  76.863248\nPena High School       83.625455  83.372000  84.328125  84.121547\nRodriguez High School  76.859966  76.612500  76.395626  77.690748\nShelton High School    83.420755  82.917411  83.383495  83.778976\nThomas High School     83.590022  83.087886  83.498795  83.497041\nWilson High School     83.085578  83.724422  83.195326  83.035794\nWright High School     83.264706  84.010288  83.836782  83.644986",
      "text/html": "<div>\n<style scoped>\n    .dataframe tbody tr th:only-of-type {\n        vertical-align: middle;\n    }\n\n    .dataframe tbody tr th {\n        vertical-align: top;\n    }\n\n    .dataframe thead th {\n        text-align: right;\n    }\n</style>\n<table border=\"1\" class=\"dataframe\">\n  <thead>\n    <tr style=\"text-align: right;\">\n      <th></th>\n      <th>9th</th>\n      <th>10th</th>\n      <th>11th</th>\n      <th>12th</th>\n    </tr>\n    <tr>\n      <th>school_name</th>\n      <th></th>\n      <th></th>\n      <th></th>\n      <th></th>\n    </tr>\n  </thead>\n  <tbody>\n    <tr>\n      <th>Bailey High School</th>\n      <td>77.083676</td>\n      <td>76.996772</td>\n      <td>77.515588</td>\n      <td>76.492218</td>\n    </tr>\n    <tr>\n      <th>Cabrera High School</th>\n      <td>83.094697</td>\n      <td>83.154506</td>\n      <td>82.765560</td>\n      <td>83.277487</td>\n    </tr>\n    <tr>\n      <th>Figueroa High School</th>\n      <td>76.403037</td>\n      <td>76.539974</td>\n      <td>76.884344</td>\n      <td>77.151369</td>\n    </tr>\n    <tr>\n      <th>Ford High School</th>\n      <td>77.361345</td>\n      <td>77.672316</td>\n      <td>76.918058</td>\n      <td>76.179963</td>\n    </tr>\n    <tr>\n      <th>Griffin High School</th>\n      <td>82.044010</td>\n      <td>84.229064</td>\n      <td>83.842105</td>\n      <td>83.356164</td>\n    </tr>\n    <tr>\n      <th>Hernandez High School</th>\n      <td>77.438495</td>\n      <td>77.337408</td>\n      <td>77.136029</td>\n      <td>77.186567</td>\n    </tr>\n    <tr>\n      <th>Holden High School</th>\n      <td>83.787402</td>\n      <td>83.429825</td>\n      <td>85.000000</td>\n      <td>82.855422</td>\n    </tr>\n    <tr>\n      <th>Huang High School</th>\n      <td>77.027251</td>\n      <td>75.908735</td>\n      <td>76.446602</td>\n      <td>77.225641</td>\n    </tr>\n    <tr>\n      <th>Johnson High School</th>\n      <td>77.187857</td>\n      <td>76.691117</td>\n      <td>77.491653</td>\n      <td>76.863248</td>\n    </tr>\n    <tr>\n      <th>Pena High School</th>\n      <td>83.625455</td>\n      <td>83.372000</td>\n      <td>84.328125</td>\n      <td>84.121547</td>\n    </tr>\n    <tr>\n      <th>Rodriguez High School</th>\n      <td>76.859966</td>\n      <td>76.612500</td>\n      <td>76.395626</td>\n      <td>77.690748</td>\n    </tr>\n    <tr>\n      <th>Shelton High School</th>\n      <td>83.420755</td>\n      <td>82.917411</td>\n      <td>83.383495</td>\n      <td>83.778976</td>\n    </tr>\n    <tr>\n      <th>Thomas High School</th>\n      <td>83.590022</td>\n      <td>83.087886</td>\n      <td>83.498795</td>\n      <td>83.497041</td>\n    </tr>\n    <tr>\n      <th>Wilson High School</th>\n      <td>83.085578</td>\n      <td>83.724422</td>\n      <td>83.195326</td>\n      <td>83.035794</td>\n    </tr>\n    <tr>\n      <th>Wright High School</th>\n      <td>83.264706</td>\n      <td>84.010288</td>\n      <td>83.836782</td>\n      <td>83.644986</td>\n    </tr>\n  </tbody>\n</table>\n</div>"
     },
     "metadata": {},
     "execution_count": 27
    }
   ],
   "source": [
    "#math grades by grade level\n",
    "\n",
    "ninth_graders_grades = school_student_df[(school_student_df[\"grade\"] == \"9th\")]\n",
    "tenth_graders_grades = school_student_df[(school_student_df[\"grade\"] == \"10th\")]\n",
    "eleventh_graders_grades = school_student_df[(school_student_df[\"grade\"] == \"11th\")]\n",
    "twelfth_graders_grades = school_student_df[(school_student_df[\"grade\"] == \"12th\")]\n",
    "ninth_graders_math = ninth_graders_grades.groupby([\"school_name\"]).mean()[\"math_score\"]\n",
    "tenth_graders_math = tenth_graders_grades.groupby([\"school_name\"]).mean()[\"math_score\"]\n",
    "eleventh_graders_math = eleventh_graders_grades.groupby([\"school_name\"]).mean()[\"math_score\"]\n",
    "twelfth_graders_math = twelfth_graders_grades.groupby([\"school_name\"]).mean()[\"math_score\"]\n",
    "\n",
    "\n",
    "math_by_grades = pd.DataFrame({\"9th\": ninth_graders_math,\n",
    "                                \"10th\": tenth_graders_math,\n",
    "                                \"11th\": eleventh_graders_math,\n",
    "                                \"12th\": twelfth_graders_math})\n",
    "\n",
    "\n",
    "math_by_grades"
   ]
  },
  {
   "cell_type": "code",
   "execution_count": 28,
   "metadata": {},
   "outputs": [
    {
     "output_type": "execute_result",
     "data": {
      "text/plain": "                             9th       10th       11th       12th\nschool_name                                                      \nBailey High School     81.303155  80.907183  80.945643  80.912451\nCabrera High School    83.676136  84.253219  83.788382  84.287958\nFigueroa High School   81.198598  81.408912  80.640339  81.384863\nFord High School       80.632653  81.262712  80.403642  80.662338\nGriffin High School    83.369193  83.706897  84.288089  84.013699\nHernandez High School  80.866860  80.660147  81.396140  80.857143\nHolden High School     83.677165  83.324561  83.815534  84.698795\nHuang High School      81.290284  81.512386  81.417476  80.305983\nJohnson High School    81.260714  80.773431  80.616027  81.227564\nPena High School       83.807273  83.612000  84.335938  84.591160\nRodriguez High School  80.993127  80.629808  80.864811  80.376426\nShelton High School    84.122642  83.441964  84.373786  82.781671\nThomas High School     83.728850  84.254157  83.585542  83.831361\nWilson High School     83.939778  84.021452  83.764608  84.317673\nWright High School     83.833333  83.812757  84.156322  84.073171",
      "text/html": "<div>\n<style scoped>\n    .dataframe tbody tr th:only-of-type {\n        vertical-align: middle;\n    }\n\n    .dataframe tbody tr th {\n        vertical-align: top;\n    }\n\n    .dataframe thead th {\n        text-align: right;\n    }\n</style>\n<table border=\"1\" class=\"dataframe\">\n  <thead>\n    <tr style=\"text-align: right;\">\n      <th></th>\n      <th>9th</th>\n      <th>10th</th>\n      <th>11th</th>\n      <th>12th</th>\n    </tr>\n    <tr>\n      <th>school_name</th>\n      <th></th>\n      <th></th>\n      <th></th>\n      <th></th>\n    </tr>\n  </thead>\n  <tbody>\n    <tr>\n      <th>Bailey High School</th>\n      <td>81.303155</td>\n      <td>80.907183</td>\n      <td>80.945643</td>\n      <td>80.912451</td>\n    </tr>\n    <tr>\n      <th>Cabrera High School</th>\n      <td>83.676136</td>\n      <td>84.253219</td>\n      <td>83.788382</td>\n      <td>84.287958</td>\n    </tr>\n    <tr>\n      <th>Figueroa High School</th>\n      <td>81.198598</td>\n      <td>81.408912</td>\n      <td>80.640339</td>\n      <td>81.384863</td>\n    </tr>\n    <tr>\n      <th>Ford High School</th>\n      <td>80.632653</td>\n      <td>81.262712</td>\n      <td>80.403642</td>\n      <td>80.662338</td>\n    </tr>\n    <tr>\n      <th>Griffin High School</th>\n      <td>83.369193</td>\n      <td>83.706897</td>\n      <td>84.288089</td>\n      <td>84.013699</td>\n    </tr>\n    <tr>\n      <th>Hernandez High School</th>\n      <td>80.866860</td>\n      <td>80.660147</td>\n      <td>81.396140</td>\n      <td>80.857143</td>\n    </tr>\n    <tr>\n      <th>Holden High School</th>\n      <td>83.677165</td>\n      <td>83.324561</td>\n      <td>83.815534</td>\n      <td>84.698795</td>\n    </tr>\n    <tr>\n      <th>Huang High School</th>\n      <td>81.290284</td>\n      <td>81.512386</td>\n      <td>81.417476</td>\n      <td>80.305983</td>\n    </tr>\n    <tr>\n      <th>Johnson High School</th>\n      <td>81.260714</td>\n      <td>80.773431</td>\n      <td>80.616027</td>\n      <td>81.227564</td>\n    </tr>\n    <tr>\n      <th>Pena High School</th>\n      <td>83.807273</td>\n      <td>83.612000</td>\n      <td>84.335938</td>\n      <td>84.591160</td>\n    </tr>\n    <tr>\n      <th>Rodriguez High School</th>\n      <td>80.993127</td>\n      <td>80.629808</td>\n      <td>80.864811</td>\n      <td>80.376426</td>\n    </tr>\n    <tr>\n      <th>Shelton High School</th>\n      <td>84.122642</td>\n      <td>83.441964</td>\n      <td>84.373786</td>\n      <td>82.781671</td>\n    </tr>\n    <tr>\n      <th>Thomas High School</th>\n      <td>83.728850</td>\n      <td>84.254157</td>\n      <td>83.585542</td>\n      <td>83.831361</td>\n    </tr>\n    <tr>\n      <th>Wilson High School</th>\n      <td>83.939778</td>\n      <td>84.021452</td>\n      <td>83.764608</td>\n      <td>84.317673</td>\n    </tr>\n    <tr>\n      <th>Wright High School</th>\n      <td>83.833333</td>\n      <td>83.812757</td>\n      <td>84.156322</td>\n      <td>84.073171</td>\n    </tr>\n  </tbody>\n</table>\n</div>"
     },
     "metadata": {},
     "execution_count": 28
    }
   ],
   "source": [
    "#reading grades by grade level\n",
    "\n",
    "ninth_graders_reading = ninth_graders_grades.groupby([\"school_name\"]).mean()[\"reading_score\"]\n",
    "tenth_graders_reading = tenth_graders_grades.groupby([\"school_name\"]).mean()[\"reading_score\"]\n",
    "eleventh_graders_reading = eleventh_graders_grades.groupby([\"school_name\"]).mean()[\"reading_score\"]\n",
    "twelfth_graders_reading = twelfth_graders_grades.groupby([\"school_name\"]).mean()[\"reading_score\"]\n",
    "\n",
    "\n",
    "reading_by_grade = pd.DataFrame({\"9th\": ninth_graders_reading,\n",
    "                                \"10th\": tenth_graders_reading,\n",
    "                                \"11th\": eleventh_graders_reading,\n",
    "                                \"12th\": twelfth_graders_reading})\n",
    "\n",
    "\n",
    "reading_by_grade"
   ]
  },
  {
   "cell_type": "code",
   "execution_count": 30,
   "metadata": {
    "tags": []
   },
   "outputs": [
    {
     "output_type": "stream",
     "name": "stdout",
     "text": "655.0\n578.0\n"
    }
   ],
   "source": [
    "print(max(budget_per))\n",
    "print(min(budget_per))"
   ]
  },
  {
   "cell_type": "code",
   "execution_count": 45,
   "metadata": {},
   "outputs": [
    {
     "output_type": "execute_result",
     "data": {
      "text/plain": "                          Average Math Score  Average Reading Score  \\\nSpending Per Student ($)                                              \n<$600                              83.436210              83.892196   \n$600-620                           83.839917              84.044699   \n$620-640                           79.474551              82.120471   \n$640+                              77.023555              80.957446   \n\n                          % Passing Math  % Passing Reading  \\\nSpending Per Student ($)                                      \n<$600                          93.541501          96.459627   \n$600-620                       94.594595          95.945946   \n$620-640                       77.139934          87.468080   \n$640+                          66.701010          80.675217   \n\n                          % Overall Passing Rate  \nSpending Per Student ($)                          \n<$600                                  95.000564  \n$600-620                               95.270270  \n$620-640                               82.304007  \n$640+                                  73.688113  ",
      "text/html": "<div>\n<style scoped>\n    .dataframe tbody tr th:only-of-type {\n        vertical-align: middle;\n    }\n\n    .dataframe tbody tr th {\n        vertical-align: top;\n    }\n\n    .dataframe thead th {\n        text-align: right;\n    }\n</style>\n<table border=\"1\" class=\"dataframe\">\n  <thead>\n    <tr style=\"text-align: right;\">\n      <th></th>\n      <th>Average Math Score</th>\n      <th>Average Reading Score</th>\n      <th>% Passing Math</th>\n      <th>% Passing Reading</th>\n      <th>% Overall Passing Rate</th>\n    </tr>\n    <tr>\n      <th>Spending Per Student ($)</th>\n      <th></th>\n      <th></th>\n      <th></th>\n      <th></th>\n      <th></th>\n    </tr>\n  </thead>\n  <tbody>\n    <tr>\n      <th>&lt;$600</th>\n      <td>83.436210</td>\n      <td>83.892196</td>\n      <td>93.541501</td>\n      <td>96.459627</td>\n      <td>95.000564</td>\n    </tr>\n    <tr>\n      <th>$600-620</th>\n      <td>83.839917</td>\n      <td>84.044699</td>\n      <td>94.594595</td>\n      <td>95.945946</td>\n      <td>95.270270</td>\n    </tr>\n    <tr>\n      <th>$620-640</th>\n      <td>79.474551</td>\n      <td>82.120471</td>\n      <td>77.139934</td>\n      <td>87.468080</td>\n      <td>82.304007</td>\n    </tr>\n    <tr>\n      <th>$640+</th>\n      <td>77.023555</td>\n      <td>80.957446</td>\n      <td>66.701010</td>\n      <td>80.675217</td>\n      <td>73.688113</td>\n    </tr>\n  </tbody>\n</table>\n</div>"
     },
     "metadata": {},
     "execution_count": 45
    }
   ],
   "source": [
    "#school's performance based on budget\n",
    "\n",
    "bins = [0, 600, 620, 640, 660]\n",
    "group_names = [\"<$600\", \"$600-620\", \"$620-640\", \"$640+\"]\n",
    "school_summary[\"Spending Per Student ($)\"] = pd.cut(budget_per, bins, labels=group_names)\n",
    "\n",
    "math_by_budget = school_summary.groupby([\"Spending Per Student ($)\"]).mean()[\"Average Math Score\"]\n",
    "read_by_budget = school_summary.groupby([\"Spending Per Student ($)\"]).mean()[\"Average Reading Score\"]\n",
    "math_p_by_budget = school_summary.groupby([\"Spending Per Student ($)\"]).mean()[\"% Passing Math\"]\n",
    "read_p_by_budget = school_summary.groupby([\"Spending Per Student ($)\"]).mean()[\"% Passing Reading\"]\n",
    "passing_by_budget = (math_p_by_budget + read_p_by_budget) / 2\n",
    "\n",
    "school_by_budget = pd.DataFrame({\"Average Math Score\" : math_by_budget,\n",
    "                                 \"Average Reading Score\": read_by_budget,\n",
    "                                 \"% Passing Math\": math_p_by_budget,\n",
    "                                 \"% Passing Reading\": read_p_by_budget,\n",
    "                                 \"% Overall Passing Rate\": passing_by_budget})\n",
    "\n",
    "\n",
    "school_by_budget"
   ]
  },
  {
   "cell_type": "code",
   "execution_count": 40,
   "metadata": {
    "tags": []
   },
   "outputs": [
    {
     "output_type": "stream",
     "name": "stdout",
     "text": "4976\n427\n"
    }
   ],
   "source": [
    "print(max(students_at_school))\n",
    "print(min(students_at_school))"
   ]
  },
  {
   "cell_type": "code",
   "execution_count": 42,
   "metadata": {},
   "outputs": [
    {
     "output_type": "execute_result",
     "data": {
      "text/plain": "                           Average Math Score  Average Reading Score  \\\nSchool Size                                                            \nSmall School(<1000)                 83.821598              83.929843   \nMedium School (1000-2000)           83.374684              83.864438   \nLarge School (>2000)                77.746417              81.344493   \n\n                           % Passing Math  % Passing Reading  \\\nSchool Size                                                    \nSmall School(<1000)             93.550225          96.099437   \nMedium School (1000-2000)       93.599695          96.790680   \nLarge School (>2000)            69.963361          82.766634   \n\n                           % Overall Passing Rate  \nSchool Size                                        \nSmall School(<1000)                     94.824831  \nMedium School (1000-2000)               95.195187  \nLarge School (>2000)                    76.364998  ",
      "text/html": "<div>\n<style scoped>\n    .dataframe tbody tr th:only-of-type {\n        vertical-align: middle;\n    }\n\n    .dataframe tbody tr th {\n        vertical-align: top;\n    }\n\n    .dataframe thead th {\n        text-align: right;\n    }\n</style>\n<table border=\"1\" class=\"dataframe\">\n  <thead>\n    <tr style=\"text-align: right;\">\n      <th></th>\n      <th>Average Math Score</th>\n      <th>Average Reading Score</th>\n      <th>% Passing Math</th>\n      <th>% Passing Reading</th>\n      <th>% Overall Passing Rate</th>\n    </tr>\n    <tr>\n      <th>School Size</th>\n      <th></th>\n      <th></th>\n      <th></th>\n      <th></th>\n      <th></th>\n    </tr>\n  </thead>\n  <tbody>\n    <tr>\n      <th>Small School(&lt;1000)</th>\n      <td>83.821598</td>\n      <td>83.929843</td>\n      <td>93.550225</td>\n      <td>96.099437</td>\n      <td>94.824831</td>\n    </tr>\n    <tr>\n      <th>Medium School (1000-2000)</th>\n      <td>83.374684</td>\n      <td>83.864438</td>\n      <td>93.599695</td>\n      <td>96.790680</td>\n      <td>95.195187</td>\n    </tr>\n    <tr>\n      <th>Large School (&gt;2000)</th>\n      <td>77.746417</td>\n      <td>81.344493</td>\n      <td>69.963361</td>\n      <td>82.766634</td>\n      <td>76.364998</td>\n    </tr>\n  </tbody>\n</table>\n</div>"
     },
     "metadata": {},
     "execution_count": 42
    }
   ],
   "source": [
    "#school's performance based on school size\n",
    "\n",
    "bins = [0, 1000, 2000, 5000]\n",
    "group_names = [\"Small School(<1000)\", \"Medium School (1000-2000)\", \"Large School (>2000)\"]\n",
    "school_summary[\"School Size\"] = pd.cut(school_summary[\"Total Students\"], bins, labels=group_names)\n",
    "\n",
    "math_by_size = school_summary.groupby([\"School Size\"]).mean()[\"Average Math Score\"]\n",
    "read_by_size = school_summary.groupby([\"School Size\"]).mean()[\"Average Reading Score\"]\n",
    "math_p_by_size = school_summary.groupby([\"School Size\"]).mean()[\"% Passing Math\"]\n",
    "read_p_by_size = school_summary.groupby([\"School Size\"]).mean()[\"% Passing Reading\"]\n",
    "passing_by_size = (math_p_by_size + read_p_by_size) / 2\n",
    "\n",
    "school_by_size = pd.DataFrame({\"Average Math Score\" : math_by_size,\n",
    "                             \"Average Reading Score\": read_by_size,\n",
    "                             \"% Passing Math\": math_p_by_size,\n",
    "                             \"% Passing Reading\": read_p_by_size,\n",
    "                             \"% Overall Passing Rate\": passing_by_size})\n",
    "\n",
    "school_by_size"
   ]
  },
  {
   "cell_type": "code",
   "execution_count": 44,
   "metadata": {},
   "outputs": [
    {
     "output_type": "execute_result",
     "data": {
      "text/plain": "             Average Math Score  Average Reading Score  % Passing Math  \\\nSchool Type                                                              \nCharter               83.473852              83.896421       93.620830   \nDistrict              76.956733              80.966636       66.548453   \n\n             % Passing Reading  % Overall Passing Rate  \nSchool Type                                             \nCharter              96.586489               95.103660  \nDistrict             80.799062               73.673757  ",
      "text/html": "<div>\n<style scoped>\n    .dataframe tbody tr th:only-of-type {\n        vertical-align: middle;\n    }\n\n    .dataframe tbody tr th {\n        vertical-align: top;\n    }\n\n    .dataframe thead th {\n        text-align: right;\n    }\n</style>\n<table border=\"1\" class=\"dataframe\">\n  <thead>\n    <tr style=\"text-align: right;\">\n      <th></th>\n      <th>Average Math Score</th>\n      <th>Average Reading Score</th>\n      <th>% Passing Math</th>\n      <th>% Passing Reading</th>\n      <th>% Overall Passing Rate</th>\n    </tr>\n    <tr>\n      <th>School Type</th>\n      <th></th>\n      <th></th>\n      <th></th>\n      <th></th>\n      <th></th>\n    </tr>\n  </thead>\n  <tbody>\n    <tr>\n      <th>Charter</th>\n      <td>83.473852</td>\n      <td>83.896421</td>\n      <td>93.620830</td>\n      <td>96.586489</td>\n      <td>95.103660</td>\n    </tr>\n    <tr>\n      <th>District</th>\n      <td>76.956733</td>\n      <td>80.966636</td>\n      <td>66.548453</td>\n      <td>80.799062</td>\n      <td>73.673757</td>\n    </tr>\n  </tbody>\n</table>\n</div>"
     },
     "metadata": {},
     "execution_count": 44
    }
   ],
   "source": [
    "\n",
    "math_by_type = school_summary.groupby([\"School Type\"]).mean()[\"Average Math Score\"]\n",
    "read_by_type = school_summary.groupby([\"School Type\"]).mean()[\"Average Reading Score\"]\n",
    "math_p_by_type = school_summary.groupby([\"School Type\"]).mean()[\"% Passing Math\"]\n",
    "read_p_by_type = school_summary.groupby([\"School Type\"]).mean()[\"% Passing Reading\"]\n",
    "passing_by_type = (math_p_by_type + read_p_by_type) / 2\n",
    "school_by_type = pd.DataFrame({\"Average Math Score\" : math_by_type,\n",
    "                             \"Average Reading Score\": read_by_type,\n",
    "                             \"% Passing Math\": math_p_by_type,\n",
    "                             \"% Passing Reading\": read_p_by_type,\n",
    "                             \"% Overall Passing Rate\": passing_by_type})\n",
    "\n",
    "school_by_type"
   ]
  },
  {
   "cell_type": "code",
   "execution_count": null,
   "metadata": {},
   "outputs": [],
   "source": []
  },
  {
   "cell_type": "code",
   "execution_count": null,
   "metadata": {},
   "outputs": [],
   "source": []
  }
 ],
 "metadata": {
  "file_extension": ".py",
  "kernelspec": {
   "display_name": "Python 3.7.7 64-bit ('PythonData': conda)",
   "language": "python",
   "name": "python37764bitpythondataconda58c3617d3eed445b80043e5831324c4d"
  },
  "language_info": {
   "codemirror_mode": {
    "name": "ipython",
    "version": 3
   },
   "file_extension": ".py",
   "mimetype": "text/x-python",
   "name": "python",
   "nbconvert_exporter": "python",
   "pygments_lexer": "ipython3",
   "version": "3.7.7-final"
  },
  "mimetype": "text/x-python",
  "name": "python",
  "npconvert_exporter": "python",
  "pygments_lexer": "ipython3",
  "version": 3
 },
 "nbformat": 4,
 "nbformat_minor": 2
}